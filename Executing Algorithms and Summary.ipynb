{
 "cells": [
  {
   "cell_type": "markdown",
   "metadata": {},
   "source": [
    "ALGORITHM FOR A UNIT NOW -\n",
    "3rd point is farther away but has higher probability, the intermediate 2 points have less probability but are closer by, so one of them can be covered before going to point 3."
   ]
  },
  {
   "cell_type": "markdown",
   "metadata": {},
   "source": [
    "Method 1 - comparing every single point distance with the most likelihood point and next most likelihood point. "
   ]
  },
  {
   "cell_type": "code",
   "execution_count": 1,
   "metadata": {},
   "outputs": [],
   "source": [
    "%run Simulation&summary.ipynb"
   ]
  },
  {
   "cell_type": "code",
   "execution_count": 2,
   "metadata": {},
   "outputs": [],
   "source": [
    "%run Algorithms.ipynb"
   ]
  },
  {
   "cell_type": "code",
   "execution_count": 3,
   "metadata": {},
   "outputs": [],
   "source": [
    "# points =  [[[[9.26, 2.84], [7.23, 7.07], [1.3, 0.02], [1.26, 5.97], [5.56, 8.46], [9.0, 3.09], [5.89, 1.85]], [[4.83, 4.9], [2.47, 3.79], [2.9, 4.29], [5.03, 2.98], [5.05, 3.73], [8.95, 3.04], [2.45, 7.77]], [[6.83, 5.5], [3.15, 9.68], [0.6, 1.86], [4.29, 8.39], [5.2, 6.51], [4.51, 6.87], [2.51, 7.97]], [[5.56, 2.31], [6.35, 8.83], [6.29, 0.23], [6.8, 3.07], [1.6, 4.21], [8.7, 1.02], [2.77, 9.33]], [[6.57, 9.01], [2.85, 4.58], [1.7, 4.0], [3.72, 6.84], [0.66, 0.7], [2.82, 3.07], [5.98, 8.82]], [[7.06, 7.24], [5.97, 2.52], [9.15, 8.72], [2.63, 6.56], [1.35, 3.41], [6.2, 7.92], [0.98, 5.53]], [[6.23, 5.11], [3.57, 9.25], [6.28, 7.36], [1.68, 2.85], [8.73, 0.87], [1.92, 3.52], [9.96, 8.96]], [[3.14, 9.36], [5.4, 5.46], [9.75, 2.93], [4.99, 1.36], [6.27, 7.99], [1.46, 6.68], [7.34, 9.28]], [[3.23, 6.64], [2.84, 5.08], [3.69, 3.01], [7.77, 2.09], [2.3, 9.24], [7.43, 4.78], [7.24, 1.13]], [[9.06, 8.08], [5.68, 8.14], [6.61, 4.04], [9.27, 6.65], [2.08, 3.39], [1.74, 5.08], [6.98, 3.59]]], [[[9.14, 7.93], [8.06, 9.87], [3.4, 0.94], [3.05, 4.44], [2.26, 2.54], [6.33, 1.05], [0.02, 7.14], [6.65, 3.09]], [[7.11, 4.16], [9.7, 2.92], [5.4, 9.04], [2.61, 6.32], [0.59, 8.28], [5.52, 8.84], [0.4, 0.84], [9.12, 5.95]], [[1.88, 2.5], [3.9, 9.48], [2.43, 0.24], [2.29, 1.46], [0.33, 3.49], [1.55, 7.92], [7.09, 0.57], [3.0, 8.58]], [[9.68, 8.01], [4.88, 8.12], [8.29, 8.44], [2.55, 1.62], [5.44, 7.57], [1.31, 6.7], [4.4, 5.61], [3.66, 9.8]], [[3.48, 8.21], [5.44, 6.32], [8.32, 1.36], [0.57, 0.21], [6.7, 8.6], [7.82, 2.93], [6.91, 7.55], [1.03, 8.31]], [[6.17, 3.74], [6.03, 4.41], [2.25, 8.62], [4.28, 3.13], [0.32, 6.95], [3.19, 0.35], [9.1, 9.93], [1.93, 1.36]], [[3.51, 4.94], [6.89, 3.25], [9.51, 8.73], [9.02, 4.45], [5.96, 0.69], [4.78, 3.88], [1.47, 0.34], [1.84, 2.4]], [[0.55, 0.4], [9.41, 3.58], [7.89, 7.25], [7.2, 8.01], [9.79, 3.53], [8.19, 3.16], [0.17, 5.2], [5.66, 8.21]], [[2.0, 3.67], [9.75, 6.21], [6.39, 9.83], [7.36, 5.95], [5.97, 7.72], [6.53, 7.68], [3.43, 0.67], [5.05, 5.19]], [[0.55, 2.39], [4.47, 0.38], [2.72, 7.9], [3.49, 3.66], [4.26, 8.25], [6.44, 8.01], [0.34, 5.51], [5.15, 7.64]]], [[[0.2, 5.59], [2.91, 5.38], [6.12, 3.53], [0.11, 2.95], [9.77, 4.59], [6.32, 2.98]], [[1.69, 4.24], [4.1, 6.4], [9.86, 6.33], [1.12, 7.88], [8.32, 5.98], [7.55, 1.53]], [[10.0, 9.26], [9.63, 0.79], [1.34, 6.73], [9.8, 5.06], [9.14, 5.77], [9.74, 0.19]], [[1.41, 6.98], [8.2, 4.57], [7.49, 0.78], [6.49, 5.31], [5.23, 1.68], [8.64, 6.08]], [[9.05, 4.49], [7.83, 3.57], [9.84, 0.5], [1.45, 7.98], [3.34, 4.02], [6.13, 6.35]], [[9.58, 8.72], [4.2, 9.4], [5.83, 3.15], [2.26, 5.67], [9.77, 7.84], [8.94, 6.74]], [[0.37, 5.94], [9.97, 7.52], [8.74, 5.65], [7.92, 0.9], [9.5, 6.23], [9.79, 7.39]], [[9.89, 0.78], [1.56, 2.17], [0.79, 5.05], [6.48, 3.5], [6.65, 1.16], [5.4, 4.02]], [[4.56, 2.52], [9.49, 7.48], [5.74, 8.25], [4.27, 3.55], [3.58, 5.04], [0.33, 9.45]], [[9.85, 9.21], [3.09, 7.98], [4.87, 9.51], [3.83, 5.43], [7.49, 3.09], [2.1, 7.9]]]]\n",
    "# probabilities =  [[[0.4, 0.7, 0.8, 0.2, 0.7, 0.5, 0.2], [0.4, 0.7, 0.8, 0.2, 0.7, 0.5, 0.2], [0.4, 0.7, 0.8, 0.2, 0.7, 0.5, 0.2], [0.4, 0.7, 0.8, 0.2, 0.7, 0.5, 0.2], [0.4, 0.7, 0.8, 0.2, 0.7, 0.5, 0.2], [0.4, 0.7, 0.8, 0.2, 0.7, 0.5, 0.2], [0.4, 0.7, 0.8, 0.2, 0.7, 0.5, 0.2], [0.4, 0.7, 0.8, 0.2, 0.7, 0.5, 0.2], [0.4, 0.7, 0.8, 0.2, 0.7, 0.5, 0.2], [0.4, 0.7, 0.8, 0.2, 0.7, 0.5, 0.2]], [[0.5, 0.9, 0.7, 0.6, 0.4, 0.1, 0.9, 0.4], [0.5, 0.9, 0.7, 0.6, 0.4, 0.1, 0.9, 0.4], [0.5, 0.9, 0.7, 0.6, 0.4, 0.1, 0.9, 0.4], [0.5, 0.9, 0.7, 0.6, 0.4, 0.1, 0.9, 0.4], [0.5, 0.9, 0.7, 0.6, 0.4, 0.1, 0.9, 0.4], [0.5, 0.9, 0.7, 0.6, 0.4, 0.1, 0.9, 0.4], [0.5, 0.9, 0.7, 0.6, 0.4, 0.1, 0.9, 0.4], [0.5, 0.9, 0.7, 0.6, 0.4, 0.1, 0.9, 0.4], [0.5, 0.9, 0.7, 0.6, 0.4, 0.1, 0.9, 0.4], [0.5, 0.9, 0.7, 0.6, 0.4, 0.1, 0.9, 0.4]], [[0.8, 0.1, 0.6, 0.4, 0.9, 0.3], [0.8, 0.1, 0.6, 0.4, 0.9, 0.3], [0.8, 0.1, 0.6, 0.4, 0.9, 0.3], [0.8, 0.1, 0.6, 0.4, 0.9, 0.3], [0.8, 0.1, 0.6, 0.4, 0.9, 0.3], [0.8, 0.1, 0.6, 0.4, 0.9, 0.3], [0.8, 0.1, 0.6, 0.4, 0.9, 0.3], [0.8, 0.1, 0.6, 0.4, 0.9, 0.3], [0.8, 0.1, 0.6, 0.4, 0.9, 0.3], [0.8, 0.1, 0.6, 0.4, 0.9, 0.3]]]\n",
    "\n",
    "# points = np.array([[np.array([[0, 0], [1, 1], [2, 2], [3, 3], [4, 4]]),np.array([[2, 5], [8, 1], [4, 7], [6, 3], [1, 9], [9, 4], [5, 8], [3, 2]])]])\n",
    "# probabilities = np.array([[[0.8, 0.6, 0.9, 0.7, 0.5],[0.6, 0.2, 0.5, 0.7, 0.4, 0.8, 0.3, 0.9]]])\n",
    "std_devs = [100]\n",
    "areas = [30]\n",
    "rates = [0.001,0.01,0.1,1]\n",
    "# for area in areas:\n",
    "#     rate = area_to_rate(area)\n",
    "#     rates.append(rate)\n",
    "cutoff_times = [10,100] #minutes\n",
    "n_s = [0,0.1,1,100]\n",
    "num_galaxies = [10]\n",
    "num_points_in_a_set = 3\n"
   ]
  },
  {
   "cell_type": "code",
   "execution_count": 9,
   "metadata": {},
   "outputs": [
    {
     "name": "stderr",
     "output_type": "stream",
     "text": [
      "Std Dev Progress:   0%|                                                                           | 0/1 [00:00<?, ?it/s]\n",
      "Rate Progress:   0%|                                                                              | 0/1 [00:00<?, ?it/s]\u001b[A\n",
      "\n",
      "Cutoff Time Progress: 100%|██████████████████████████████████████████████████████████████| 2/2 [00:00<00:00, 219.01it/s]\u001b[A\u001b[A\n",
      "Rate Progress: 100%|██████████████████████████████████████████████████████████████████████| 1/1 [00:00<00:00, 75.55it/s]\n",
      "Std Dev Progress: 100%|███████████████████████████████████████████████████████████████████| 1/1 [00:00<00:00, 60.76it/s]\n"
     ]
    }
   ],
   "source": [
    "for std_dev in tqdm(std_devs, desc=\"Std Dev Progress\"):\n",
    "    for rate in tqdm(rates, desc=\"Rate Progress\"):\n",
    "        for cutoff_time in tqdm(cutoff_times, desc=\"Cutoff Time Progress\"):\n",
    "            paths_compounded_twice = []\n",
    "            cutoff_distance = convert_time_to_distance(cutoff_time,rate)\n",
    "            points,probabilities = generate_points_array_likelihoods_array(num_galaxies, num_points_in_a_set,std_dev)\n",
    "            for i, points_set in enumerate(points):\n",
    "                likelihoods_set = probabilities[i]\n",
    "                num_galaxy = len(likelihoods_set[0])\n",
    "                paths_compounded, n_array = generate_paths_compounded1(np.array(points_set),np.array(likelihoods_set),n_s)\n",
    "                #print(points_set)\n",
    "                #print(likelihoods_set)\n",
    "                #print(\"paths_compounded = \",paths_compounded,\"\\nn_array = \",n_array)\n",
    "                paths_compounded_twice.append(paths_compounded)\n",
    "                success_rates,success_times, n_values = run_simulation(np.array(points_set),np.array(likelihoods_set),num_points_in_a_set,cutoff_distance,len(n_s),paths_compounded,n_array)\n",
    "                for i in range(len(success_rates)):\n",
    "                    j = 1\n",
    "                    #print(\"Success Rate for Metric {} (n = {:.2f}): {:.2f}%\".format(i+1,n_values[i], success_rates[i] * 100))\n",
    "                    #print(success_timegs[i])\n",
    "                #plot_success_times(success_times,n_s,cutoff_distance,rate,std_dev,num_galaxy)\n",
    "                #plot_success_time_barchart(success_times,n_s, cutoff_time,rate,std_dev,num_galaxy)\n",
    "           #plot_cdf_of_time(points,probabilities,paths_compounded_twice,n_s,cutoff_time,rate,std_dev)"
   ]
  },
  {
   "cell_type": "code",
   "execution_count": null,
   "metadata": {},
   "outputs": [],
   "source": [
    "#print(paths_compounded)"
   ]
  },
  {
   "cell_type": "code",
   "execution_count": null,
   "metadata": {},
   "outputs": [],
   "source": [
    "#plot_path_with_arrow_and_distance(points[0][0], probabilities[0][0], paths_compounded[0][0])"
   ]
  }
 ],
 "metadata": {
  "kernelspec": {
   "display_name": "Python 3 (ipykernel)",
   "language": "python",
   "name": "python3"
  },
  "language_info": {
   "codemirror_mode": {
    "name": "ipython",
    "version": 3
   },
   "file_extension": ".py",
   "mimetype": "text/x-python",
   "name": "python",
   "nbconvert_exporter": "python",
   "pygments_lexer": "ipython3",
   "version": "3.10.12"
  }
 },
 "nbformat": 4,
 "nbformat_minor": 4
}
